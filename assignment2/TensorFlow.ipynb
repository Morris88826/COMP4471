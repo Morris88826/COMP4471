{
 "cells": [
  {
   "cell_type": "markdown",
   "metadata": {
    "colab_type": "text",
    "id": "EI-7uSmEmhLm"
   },
   "source": [
    "## What's this TensorFlow business?\n",
    "\n",
    "You've written a lot of code in this assignment to provide a whole host of neural network functionality. Dropout, Batch Norm, and 2D convolutions are some of the workhorses of deep learning in computer vision. You've also worked hard to make your code efficient and vectorized.\n",
    "\n",
    "For the last part of this assignment, though, we're going to leave behind your beautiful codebase and instead migrate to one of two popular deep learning frameworks: in this instance, TensorFlow (or PyTorch, if you switch over to that notebook)\n",
    "\n",
    "#### What is it?\n",
    "TensorFlow is a system for executing computational graphs over Tensor objects, with native support for performing backpropogation for its Variables. In it, we work with Tensors which are n-dimensional arrays analogous to the numpy ndarray.\n",
    "\n",
    "#### Why?\n",
    "\n",
    "* Our code will now run on GPUs! Much faster training. Writing your own modules to run on GPUs is beyond the scope of this class, unfortunately.\n",
    "* We want you to be ready to use one of these frameworks for your project so you can experiment more efficiently than if you were writing every feature you want to use by hand. \n",
    "* We want you to stand on the shoulders of giants! TensorFlow and PyTorch are both excellent frameworks that will make your lives a lot easier, and now that you understand their guts, you are free to use them :) \n",
    "* We want you to be exposed to the sort of deep learning code you might run into in academia or industry. "
   ]
  },
  {
   "cell_type": "markdown",
   "metadata": {
    "colab_type": "text",
    "id": "N-Va-rQGmhLo"
   },
   "source": [
    "## How will I learn TensorFlow?\n",
    "\n",
    "TensorFlow has many excellent tutorials available, including those from [Google themselves](https://www.tensorflow.org/get_started/get_started).\n",
    "\n",
    "Otherwise, this notebook will walk you through much of what you need to do to train models in TensorFlow. See the end of the notebook for some links to helpful tutorials if you want to learn more or need further clarification on topics that aren't fully explained here."
   ]
  },
  {
   "cell_type": "markdown",
   "metadata": {
    "colab_type": "text",
    "id": "P6D3SFxJmhLq"
   },
   "source": [
    "## Load Datasets\n"
   ]
  },
  {
   "cell_type": "code",
   "execution_count": 1,
   "metadata": {
    "colab": {},
    "colab_type": "code",
    "id": "jSHpqqk4mhLs"
   },
   "outputs": [
    {
     "name": "stderr",
     "output_type": "stream",
     "text": [
      "/Users/morristseng/opt/anaconda3/lib/python3.7/site-packages/tensorflow/python/framework/dtypes.py:526: FutureWarning: Passing (type, 1) or '1type' as a synonym of type is deprecated; in a future version of numpy, it will be understood as (type, (1,)) / '(1,)type'.\n",
      "  _np_qint8 = np.dtype([(\"qint8\", np.int8, 1)])\n",
      "/Users/morristseng/opt/anaconda3/lib/python3.7/site-packages/tensorflow/python/framework/dtypes.py:527: FutureWarning: Passing (type, 1) or '1type' as a synonym of type is deprecated; in a future version of numpy, it will be understood as (type, (1,)) / '(1,)type'.\n",
      "  _np_quint8 = np.dtype([(\"quint8\", np.uint8, 1)])\n",
      "/Users/morristseng/opt/anaconda3/lib/python3.7/site-packages/tensorflow/python/framework/dtypes.py:528: FutureWarning: Passing (type, 1) or '1type' as a synonym of type is deprecated; in a future version of numpy, it will be understood as (type, (1,)) / '(1,)type'.\n",
      "  _np_qint16 = np.dtype([(\"qint16\", np.int16, 1)])\n",
      "/Users/morristseng/opt/anaconda3/lib/python3.7/site-packages/tensorflow/python/framework/dtypes.py:529: FutureWarning: Passing (type, 1) or '1type' as a synonym of type is deprecated; in a future version of numpy, it will be understood as (type, (1,)) / '(1,)type'.\n",
      "  _np_quint16 = np.dtype([(\"quint16\", np.uint16, 1)])\n",
      "/Users/morristseng/opt/anaconda3/lib/python3.7/site-packages/tensorflow/python/framework/dtypes.py:530: FutureWarning: Passing (type, 1) or '1type' as a synonym of type is deprecated; in a future version of numpy, it will be understood as (type, (1,)) / '(1,)type'.\n",
      "  _np_qint32 = np.dtype([(\"qint32\", np.int32, 1)])\n",
      "/Users/morristseng/opt/anaconda3/lib/python3.7/site-packages/tensorflow/python/framework/dtypes.py:535: FutureWarning: Passing (type, 1) or '1type' as a synonym of type is deprecated; in a future version of numpy, it will be understood as (type, (1,)) / '(1,)type'.\n",
      "  np_resource = np.dtype([(\"resource\", np.ubyte, 1)])\n"
     ]
    }
   ],
   "source": [
    "import tensorflow as tf\n",
    "import numpy as np\n",
    "import math\n",
    "import timeit\n",
    "import matplotlib.pyplot as plt\n",
    "%matplotlib inline\n"
   ]
  },
  {
   "cell_type": "code",
   "execution_count": 2,
   "metadata": {
    "colab": {},
    "colab_type": "code",
    "id": "x9V8QjmRmhL0"
   },
   "outputs": [
    {
     "name": "stdout",
     "output_type": "stream",
     "text": [
      "Train data shape:  (49000, 32, 32, 3)\n",
      "Train labels shape:  (49000,)\n",
      "Validation data shape:  (1000, 32, 32, 3)\n",
      "Validation labels shape:  (1000,)\n",
      "Test data shape:  (10000, 32, 32, 3)\n",
      "Test labels shape:  (10000,)\n"
     ]
    }
   ],
   "source": [
    "from cs231n.data_utils import load_CIFAR10\n",
    "\n",
    "def get_CIFAR10_data(num_training=49000, num_validation=1000, num_test=10000):\n",
    "    \"\"\"\n",
    "    Load the CIFAR-10 dataset from disk and perform preprocessing to prepare\n",
    "    it for the two-layer neural net classifier. These are the same steps as\n",
    "    we used for the SVM, but condensed to a single function.  \n",
    "    \"\"\"\n",
    "    # Load the raw CIFAR-10 data\n",
    "    cifar10_dir = 'cs231n/datasets/cifar-10-batches-py'\n",
    "    X_train, y_train, X_test, y_test = load_CIFAR10(cifar10_dir)\n",
    "\n",
    "    # Subsample the data\n",
    "    mask = range(num_training, num_training + num_validation)\n",
    "    X_val = X_train[mask]\n",
    "    y_val = y_train[mask]\n",
    "    mask = range(num_training)\n",
    "    X_train = X_train[mask]\n",
    "    y_train = y_train[mask]\n",
    "    mask = range(num_test)\n",
    "    X_test = X_test[mask]\n",
    "    y_test = y_test[mask]\n",
    "\n",
    "    # Normalize the data: subtract the mean image\n",
    "    mean_image = np.mean(X_train, axis=0)\n",
    "    X_train -= mean_image\n",
    "    X_val -= mean_image\n",
    "    X_test -= mean_image\n",
    "\n",
    "    return X_train, y_train, X_val, y_val, X_test, y_test\n",
    "\n",
    "\n",
    "# Invoke the above function to get our data.\n",
    "X_train, y_train, X_val, y_val, X_test, y_test = get_CIFAR10_data()\n",
    "print('Train data shape: ', X_train.shape)\n",
    "print('Train labels shape: ', y_train.shape)\n",
    "print('Validation data shape: ', X_val.shape)\n",
    "print('Validation labels shape: ', y_val.shape)\n",
    "print('Test data shape: ', X_test.shape)\n",
    "print('Test labels shape: ', y_test.shape)"
   ]
  },
  {
   "cell_type": "markdown",
   "metadata": {
    "colab_type": "text",
    "id": "9r-C1UGumhL6"
   },
   "source": [
    "## Example Model\n",
    "\n",
    "### Some useful utilities\n",
    "\n",
    ". Remember that our image data is initially N x H x W x C, where:\n",
    "* N is the number of datapoints\n",
    "* H is the height of each image in pixels\n",
    "* W is the height of each image in pixels\n",
    "* C is the number of channels (usually 3: R, G, B)\n",
    "\n",
    "This is the right way to represent the data when we are doing something like a 2D convolution, which needs spatial understanding of where the pixels are relative to each other. When we input image data into fully connected affine layers, however, we want each data example to be represented by a single vector -- it's no longer useful to segregate the different channels, rows, and columns of the data."
   ]
  },
  {
   "cell_type": "markdown",
   "metadata": {
    "colab_type": "text",
    "id": "UQiJxIFhmhL8"
   },
   "source": [
    "### The example model itself\n",
    "\n",
    "The first step to training your own model is defining its architecture.\n",
    "\n",
    "Here's an example of a convolutional neural network defined in TensorFlow -- try to understand what each line is doing, remembering that each layer is composed upon the previous layer. We haven't trained anything yet - that'll come next - for now, we want you to understand how everything gets set up. \n",
    "\n",
    "In that example, you see 2D convolutional layers (Conv2d), ReLU activations, and fully-connected layers (Linear). You also see the Hinge loss function, and the Adam optimizer being used. \n",
    "\n",
    "Make sure you understand why the parameters of the Linear layer are 5408 and 10.\n",
    "\n",
    "### TensorFlow Details\n",
    "In TensorFlow, much like in our previous notebooks, we'll first specifically initialize our variables, and then our network model."
   ]
  },
  {
   "cell_type": "code",
   "execution_count": 3,
   "metadata": {
    "colab": {},
    "colab_type": "code",
    "id": "luO58zqxmhL9"
   },
   "outputs": [
    {
     "name": "stdout",
     "output_type": "stream",
     "text": [
      "WARNING:tensorflow:From /Users/morristseng/opt/anaconda3/lib/python3.7/site-packages/tensorflow/python/framework/op_def_library.py:263: colocate_with (from tensorflow.python.framework.ops) is deprecated and will be removed in a future version.\n",
      "Instructions for updating:\n",
      "Colocations handled automatically by placer.\n",
      "WARNING:tensorflow:From /Users/morristseng/opt/anaconda3/lib/python3.7/site-packages/tensorflow/python/ops/losses/losses_impl.py:379: to_float (from tensorflow.python.ops.math_ops) is deprecated and will be removed in a future version.\n",
      "Instructions for updating:\n",
      "Use tf.cast instead.\n"
     ]
    }
   ],
   "source": [
    "# clear old variables\n",
    "tf.reset_default_graph()\n",
    "\n",
    "# setup input (e.g. the data that changes every batch)\n",
    "# The first dim is None, and gets sets automatically based on batch size fed in\n",
    "X = tf.placeholder(tf.float32, [None, 32, 32, 3])\n",
    "y = tf.placeholder(tf.int64, [None])\n",
    "is_training = tf.placeholder(tf.bool)\n",
    "\n",
    "def simple_model(X,y):\n",
    "    # define our weights (e.g. init_two_layer_convnet)\n",
    "    \n",
    "    # setup variables\n",
    "    Wconv1 = tf.get_variable(\"Wconv1\", shape=[7, 7, 3, 32])\n",
    "    bconv1 = tf.get_variable(\"bconv1\", shape=[32])\n",
    "    W1 = tf.get_variable(\"W1\", shape=[5408, 10])\n",
    "    b1 = tf.get_variable(\"b1\", shape=[10])\n",
    "\n",
    "    # define our graph (e.g. two_layer_convnet)\n",
    "    a1 = tf.nn.conv2d(X, Wconv1, strides=[1,2,2,1], padding='VALID') + bconv1\n",
    "    h1 = tf.nn.relu(a1)\n",
    "    h1_flat = tf.reshape(h1,[-1,5408])\n",
    "    y_out = tf.matmul(h1_flat,W1) + b1\n",
    "    return y_out\n",
    "\n",
    "y_out = simple_model(X,y)\n",
    "\n",
    "# define our loss\n",
    "total_loss = tf.losses.hinge_loss(tf.one_hot(y,10),logits=y_out)\n",
    "mean_loss = tf.reduce_mean(total_loss)\n",
    "\n",
    "# define our optimizer\n",
    "optimizer = tf.train.AdamOptimizer(5e-4) # select optimizer and set learning rate\n",
    "train_step = optimizer.minimize(mean_loss)"
   ]
  },
  {
   "cell_type": "markdown",
   "metadata": {
    "colab_type": "text",
    "id": "myQZBlBNmhMD"
   },
   "source": [
    "TensorFlow supports many other layer types, loss functions, and optimizers - you will experiment with these next. Here's the official API documentation for these (if any of the parameters used above were unclear, this resource will also be helpful). \n",
    "\n",
    "* Layers, Activations, Loss functions : https://www.tensorflow.org/api_guides/python/nn\n",
    "* Optimizers: https://www.tensorflow.org/api_guides/python/train#Optimizers\n",
    "* BatchNorm: https://www.tensorflow.org/api_docs/python/tf/layers/batch_normalization"
   ]
  },
  {
   "cell_type": "markdown",
   "metadata": {
    "colab_type": "text",
    "id": "hOVEdr8vmhMF"
   },
   "source": [
    "### Training the model on one epoch\n",
    "While we have defined a graph of operations above, in order to execute TensorFlow Graphs, by feeding them input data and computing the results, we first need to create a `tf.Session` object. A session encapsulates the control and state of the TensorFlow runtime. For more information, see the TensorFlow [Getting started](https://www.tensorflow.org/get_started/get_started) guide.\n",
    "\n",
    "Optionally we can also specify a device context such as `/cpu:0` or `/gpu:0`. For documentation on this behavior see [this TensorFlow guide](https://www.tensorflow.org/tutorials/using_gpu)\n",
    "\n",
    "You should see a validation loss of around 0.4 to 0.6 and an accuracy of 0.30 to 0.35 below"
   ]
  },
  {
   "cell_type": "code",
   "execution_count": 4,
   "metadata": {
    "colab": {},
    "colab_type": "code",
    "id": "4dyiJcXbmhMF"
   },
   "outputs": [
    {
     "name": "stdout",
     "output_type": "stream",
     "text": [
      "Training\n",
      "Iteration 0: with minibatch training loss = 8.34 and accuracy of 0.12\n",
      "Iteration 100: with minibatch training loss = 0.987 and accuracy of 0.23\n",
      "Iteration 200: with minibatch training loss = 0.779 and accuracy of 0.28\n",
      "Iteration 300: with minibatch training loss = 0.702 and accuracy of 0.31\n",
      "Iteration 400: with minibatch training loss = 0.589 and accuracy of 0.23\n",
      "Iteration 500: with minibatch training loss = 0.553 and accuracy of 0.25\n",
      "Iteration 600: with minibatch training loss = 0.459 and accuracy of 0.42\n",
      "Iteration 700: with minibatch training loss = 0.422 and accuracy of 0.48\n",
      "Epoch 1, Overall loss = 0.735 and accuracy of 0.317\n"
     ]
    },
    {
     "data": {
      "image/png": "[encoded data removed]",
      "text/plain": [
       "<Figure size 432x288 with 1 Axes>"
      ]
     },
     "metadata": {
      "needs_background": "light"
     },
     "output_type": "display_data"
    },
    {
     "name": "stdout",
     "output_type": "stream",
     "text": [
      "Validation\n",
      "Epoch 1, Overall loss = 0.43 and accuracy of 0.366\n"
     ]
    }
   ],
   "source": [
    "def run_model(session, predict, loss_val, Xd, yd,\n",
    "              epochs=1, batch_size=64, print_every=100,\n",
    "              training=None, plot_losses=False):\n",
    "    # have tensorflow compute accuracy\n",
    "    correct_prediction = tf.equal(tf.argmax(predict,1), y)\n",
    "    accuracy = tf.reduce_mean(tf.cast(correct_prediction, tf.float32))\n",
    "    \n",
    "    # shuffle indicies\n",
    "    train_indicies = np.arange(Xd.shape[0])\n",
    "    np.random.shuffle(train_indicies)\n",
    "\n",
    "    training_now = training is not None\n",
    "    \n",
    "    # setting up variables we want to compute (and optimizing)\n",
    "    # if we have a training function, add that to things we compute\n",
    "    variables = [mean_loss,correct_prediction,accuracy]\n",
    "    if training_now:\n",
    "        variables[-1] = training\n",
    "    \n",
    "    # counter \n",
    "    iter_cnt = 0\n",
    "    for e in range(epochs):\n",
    "        # keep track of losses and accuracy\n",
    "        correct = 0\n",
    "        losses = []\n",
    "        # make sure we iterate over the dataset once\n",
    "        for i in range(int(math.ceil(Xd.shape[0]/batch_size))):\n",
    "            # generate indicies for the batch\n",
    "            start_idx = (i*batch_size)%Xd.shape[0]\n",
    "            idx = train_indicies[start_idx:start_idx+batch_size]\n",
    "            \n",
    "            # create a feed dictionary for this batch\n",
    "            feed_dict = {X: Xd[idx,:],\n",
    "                         y: yd[idx],\n",
    "                         is_training: training_now }\n",
    "            # get batch size\n",
    "            actual_batch_size = yd[idx].shape[0]\n",
    "            \n",
    "            # have tensorflow compute loss and correct predictions\n",
    "            # and (if given) perform a training step\n",
    "            loss, corr, _ = session.run(variables,feed_dict=feed_dict)\n",
    "            \n",
    "            # aggregate performance stats\n",
    "            losses.append(loss*actual_batch_size)\n",
    "            correct += np.sum(corr)\n",
    "            \n",
    "            # print every now and then\n",
    "            if training_now and (iter_cnt % print_every) == 0:\n",
    "                print(\"Iteration {0}: with minibatch training loss = {1:.3g} and accuracy of {2:.2g}\"\\\n",
    "                      .format(iter_cnt,loss,np.sum(corr)/actual_batch_size))\n",
    "            iter_cnt += 1\n",
    "        total_correct = correct/Xd.shape[0]\n",
    "        total_loss = np.sum(losses)/Xd.shape[0]\n",
    "        print(\"Epoch {2}, Overall loss = {0:.3g} and accuracy of {1:.3g}\"\\\n",
    "              .format(total_loss,total_correct,e+1))\n",
    "        if plot_losses:\n",
    "            plt.plot(losses)\n",
    "            plt.grid(True)\n",
    "            plt.title('Epoch {} Loss'.format(e+1))\n",
    "            plt.xlabel('minibatch number')\n",
    "            plt.ylabel('minibatch loss')\n",
    "            plt.show()\n",
    "    return total_loss,total_correct\n",
    "\n",
    "with tf.Session() as sess:\n",
    "    with tf.device(\"/cpu:0\"): #\"/cpu:0\" or \"/gpu:0\" \n",
    "        sess.run(tf.global_variables_initializer())\n",
    "        print('Training')\n",
    "        run_model(sess,y_out,mean_loss,X_train,y_train,1,64,100,train_step,True)\n",
    "        print('Validation')\n",
    "        run_model(sess,y_out,mean_loss,X_val,y_val,1,64)"
   ]
  },
  {
   "cell_type": "markdown",
   "metadata": {
    "colab_type": "text",
    "id": "IIp-Bc6BmhMM"
   },
   "source": [
    "## Training a specific model\n",
    "\n",
    "In this section, we're going to specify a model for you to construct. The goal here isn't to get good performance (that'll be next), but instead to get comfortable with understanding the TensorFlow documentation and configuring your own model. \n",
    "\n",
    "Using the code provided above as guidance, and using the following TensorFlow documentation, specify a model with the following architecture:\n",
    "\n",
    "* 7x7 Convolutional Layer with 32 filters and stride of 1\n",
    "* ReLU Activation Layer\n",
    "* Spatial Batch Normalization Layer (trainable parameters, with scale and centering)\n",
    "* 2x2 Max Pooling layer with a stride of 2\n",
    "* Affine layer with 1024 output units\n",
    "* ReLU Activation Layer\n",
    "* Affine layer from 1024 input units to 10 outputs\n",
    "\n"
   ]
  },
  {
   "cell_type": "code",
   "execution_count": 5,
   "metadata": {
    "colab": {},
    "colab_type": "code",
    "id": "3squPig9mhMN"
   },
   "outputs": [],
   "source": [
    "# clear old variables\n",
    "tf.reset_default_graph()\n",
    "\n",
    "# define our input (e.g. the data that changes every batch)\n",
    "# The first dim is None, and gets sets automatically based on batch size fed in\n",
    "X = tf.placeholder(tf.float32, [None, 32, 32, 3])\n",
    "y = tf.placeholder(tf.int64, [None])\n",
    "is_training = tf.placeholder(tf.bool)\n",
    "\n",
    "# define model\n",
    "def complex_model(X,y,is_training):\n",
    "    # setup variables\n",
    "    Wconv1 = tf.get_variable(\"Wconv1\", shape=[7, 7, 3, 32])\n",
    "    bconv1 = tf.get_variable(\"bconv1\", shape=[32])\n",
    "    Gammaconv1 = tf.get_variable(\"Gammaconv1\", shape=[26,26,32]) # 1 + (32+2*0-7)//1 = 26\n",
    "    Betaconv1 = tf.get_variable(\"Betaconv1\", shape=[26,26,32])\n",
    "    \n",
    "    W1 = tf.get_variable(\"W1\", shape=[13*13*32, 1024]) # 1 + (26-2)/2 = 13\n",
    "    b1 = tf.get_variable(\"b1\", shape=[1024])\n",
    "    W2 = tf.get_variable(\"W2\", shape=[1024, 10])\n",
    "    b2 = tf.get_variable(\"b2\", shape=[10])\n",
    "    eps = 1e-5\n",
    "\n",
    "    # define our graph (e.g. two_layer_convnet)\n",
    "    \n",
    "    # Convolutional Layer\n",
    "    a1 = tf.nn.conv2d(X, Wconv1, strides=[1,1,1,1], padding='VALID') + bconv1\n",
    "    # Relu\n",
    "    a2 = tf.nn.relu(a1)\n",
    "    # Batch normalization\n",
    "    running_mean, running_var = tf.nn.moments(a2, axes=[0], keep_dims=False)\n",
    "    a3 = tf.nn.batch_normalization(a2, running_mean, running_var, Betaconv1, Gammaconv1, eps)\n",
    "    # 2x2 Max pooling\n",
    "    a4 = tf.nn.max_pool(a3, ksize=[1,2,2,1], strides=[1,2,2,1], padding='VALID')\n",
    "    # Affine layer\n",
    "    h1_flat = tf.reshape(a4,[-1,13*13*32]) \n",
    "    h2 = tf.matmul(h1_flat,W1) + b1\n",
    "    # Relu\n",
    "    h3 = tf.nn.relu(h2)\n",
    "    # Afftine layer\n",
    "    y_out = tf.matmul(h3, W2) + b2\n",
    "    \n",
    "    return y_out\n",
    "\n",
    "y_out = complex_model(X,y,is_training)"
   ]
  },
  {
   "cell_type": "markdown",
   "metadata": {
    "colab_type": "text",
    "id": "pyIQQMqsmhMX"
   },
   "source": [
    "To make sure you're doing the right thing, use the following tool to check the dimensionality of your output (it should be 64 x 10, since our batches have size 64 and the output of the final affine layer should be 10, corresponding to our 10 classes):"
   ]
  },
  {
   "cell_type": "code",
   "execution_count": 6,
   "metadata": {
    "colab": {},
    "colab_type": "code",
    "id": "zbaECK7rmhMY"
   },
   "outputs": [
    {
     "name": "stdout",
     "output_type": "stream",
     "text": [
      "134 ms ± 31 ms per loop (mean ± std. dev. of 7 runs, 10 loops each)\n",
      "(64, 10)\n",
      "True\n"
     ]
    }
   ],
   "source": [
    "# Now we're going to feed a random batch into the model \n",
    "# and make sure the output is the right size\n",
    "x = np.random.randn(64, 32, 32,3)\n",
    "with tf.Session() as sess:\n",
    "    with tf.device(\"/cpu:0\"): #\"/cpu:0\" or \"/gpu:0\"\n",
    "        tf.global_variables_initializer().run()\n",
    "\n",
    "        ans = sess.run(y_out,feed_dict={X:x,is_training:True})\n",
    "        %timeit sess.run(y_out,feed_dict={X:x,is_training:True})\n",
    "        print(ans.shape)\n",
    "        print(np.array_equal(ans.shape, np.array([64, 10])))"
   ]
  },
  {
   "cell_type": "markdown",
   "metadata": {
    "colab_type": "text",
    "id": "HhhwMXeXmhMd"
   },
   "source": [
    "You should see the following from the run above \n",
    "\n",
    "`(64, 10)`\n",
    "\n",
    "`True`"
   ]
  },
  {
   "cell_type": "markdown",
   "metadata": {
    "colab_type": "text",
    "id": "bz139f4YmhMe"
   },
   "source": [
    "### GPU!\n",
    "\n",
    "Now, we're going to try and start the model under the GPU device, the rest of the code stays unchanged and all our variables and operations will be computed using accelerated code paths. However, if there is no GPU, we get a Python exception and have to rebuild our graph. On a dual-core CPU, you might see around 50-80ms/batch running the above, while the Google Cloud GPUs (run below) should be around 2-5ms/batch."
   ]
  },
  {
   "cell_type": "code",
   "execution_count": 0,
   "metadata": {
    "colab": {},
    "colab_type": "code",
    "id": "zYN0ER00mhMf"
   },
   "outputs": [],
   "source": [
    "try:\n",
    "    with tf.Session() as sess:\n",
    "        with tf.device(\"/gpu:0\") as dev: #\"/cpu:0\" or \"/gpu:0\"\n",
    "            tf.global_variables_initializer().run()\n",
    "\n",
    "            ans = sess.run(y_out,feed_dict={X:x,is_training:True})\n",
    "            %timeit sess.run(y_out,feed_dict={X:x,is_training:True})\n",
    "except tf.errors.InvalidArgumentError:\n",
    "    print(\"no gpu found, please use Google Cloud if you want GPU acceleration\")    \n",
    "    # rebuild the graph\n",
    "    # trying to start a GPU throws an exception \n",
    "    # and also trashes the original graph\n",
    "    tf.reset_default_graph()\n",
    "    X = tf.placeholder(tf.float32, [None, 32, 32, 3])\n",
    "    y = tf.placeholder(tf.int64, [None])\n",
    "    is_training = tf.placeholder(tf.bool)\n",
    "    y_out = complex_model(X,y,is_training)"
   ]
  },
  {
   "cell_type": "markdown",
   "metadata": {
    "colab_type": "text",
    "id": "mAKdc_M_mhMk"
   },
   "source": [
    "You should observe that even a simple forward pass like this is significantly faster on the GPU. So for the rest of the assignment (and when you go train your models in assignment 3 and your project!), you should use GPU devices. However, with TensorFlow, the default device is a GPU if one is available, and a CPU otherwise, so we can skip the device specification from now on."
   ]
  },
  {
   "cell_type": "markdown",
   "metadata": {
    "colab_type": "text",
    "id": "ZykioHrkmhMl"
   },
   "source": [
    "### Train the model.\n",
    "\n",
    "Now that you've seen how to define a model and do a single forward pass of some data through it, let's  walk through how you'd actually train one whole epoch over your training data (using the complex_model you created provided above).\n",
    "\n",
    "Make sure you understand how each TensorFlow function used below corresponds to what you implemented in your custom neural network implementation.\n",
    "\n",
    "First, set up an **RMSprop optimizer** (using a 1e-3 learning rate) and a **cross-entropy loss** function. See the TensorFlow documentation for more information\n",
    "* Layers, Activations, Loss functions : https://www.tensorflow.org/api_guides/python/nn\n",
    "* Optimizers: https://www.tensorflow.org/api_guides/python/train#Optimizers"
   ]
  },
  {
   "cell_type": "code",
   "execution_count": 7,
   "metadata": {
    "colab": {},
    "colab_type": "code",
    "id": "vjkce7gimhMm"
   },
   "outputs": [
    {
     "name": "stdout",
     "output_type": "stream",
     "text": [
      "WARNING:tensorflow:From <ipython-input-7-3a35247d4008>:14: softmax_cross_entropy_with_logits (from tensorflow.python.ops.nn_ops) is deprecated and will be removed in a future version.\n",
      "Instructions for updating:\n",
      "\n",
      "Future major versions of TensorFlow will allow gradients to flow\n",
      "into the labels input on backprop by default.\n",
      "\n",
      "See `tf.nn.softmax_cross_entropy_with_logits_v2`.\n",
      "\n"
     ]
    }
   ],
   "source": [
    "# Inputs\n",
    "#     y_out: is what your model computes\n",
    "#     y: is your TensorFlow variable with label information\n",
    "# Outputs\n",
    "#    mean_loss: a TensorFlow variable (scalar) with numerical loss\n",
    "#    optimizer: a TensorFlow optimizer\n",
    "# This should be ~3 lines of code!\n",
    "\n",
    "# print(y_out.shape)\n",
    "# print(y.shape)\n",
    "# raise NotImplementedError\n",
    "\n",
    "# label need to be in the same shape as logit(y_out)\n",
    "loss = tf.nn.softmax_cross_entropy_with_logits(labels=tf.one_hot(y,10), logits=y_out) \n",
    "mean_loss = tf.math.reduce_mean(loss) # scaler\n",
    "optimizer = tf.compat.v1.train.RMSPropOptimizer(\n",
    "    learning_rate=1e-3, decay=0.9, momentum=0.0, epsilon=1e-10, use_locking=False,\n",
    "    centered=False, name='RMSProp'\n",
    ")\n",
    "\n"
   ]
  },
  {
   "cell_type": "code",
   "execution_count": 8,
   "metadata": {
    "colab": {},
    "colab_type": "code",
    "id": "dslvwCwnmhMq"
   },
   "outputs": [
    {
     "name": "stdout",
     "output_type": "stream",
     "text": [
      "WARNING:tensorflow:From /Users/morristseng/opt/anaconda3/lib/python3.7/site-packages/tensorflow/python/ops/math_ops.py:3066: to_int32 (from tensorflow.python.ops.math_ops) is deprecated and will be removed in a future version.\n",
      "Instructions for updating:\n",
      "Use tf.cast instead.\n"
     ]
    }
   ],
   "source": [
    "# batch normalization in tensorflow requires this extra dependency\n",
    "extra_update_ops = tf.get_collection(tf.GraphKeys.UPDATE_OPS)\n",
    "with tf.control_dependencies(extra_update_ops):\n",
    "    train_step = optimizer.minimize(mean_loss)"
   ]
  },
  {
   "cell_type": "markdown",
   "metadata": {
    "colab_type": "text",
    "id": "AB4z2rGvmhMu"
   },
   "source": [
    "### Train the model\n",
    "Below we'll create a session and train the model over one epoch. You should see a loss of 1.4 to 2.0 and an accuracy of 0.4 to 0.5. There will be some variation due to random seeds and differences in initialization"
   ]
  },
  {
   "cell_type": "code",
   "execution_count": 9,
   "metadata": {
    "colab": {},
    "colab_type": "code",
    "id": "TP5-0GZVmhMw"
   },
   "outputs": [
    {
     "name": "stdout",
     "output_type": "stream",
     "text": [
      "Training\n",
      "Iteration 0: with minibatch training loss = 2.42 and accuracy of 0.062\n",
      "Iteration 100: with minibatch training loss = 2.23 and accuracy of 0.14\n",
      "Iteration 200: with minibatch training loss = 1.75 and accuracy of 0.38\n",
      "Iteration 300: with minibatch training loss = 1.66 and accuracy of 0.45\n",
      "Iteration 400: with minibatch training loss = 1.47 and accuracy of 0.45\n",
      "Iteration 500: with minibatch training loss = 1.16 and accuracy of 0.61\n",
      "Iteration 600: with minibatch training loss = 1.55 and accuracy of 0.45\n",
      "Iteration 700: with minibatch training loss = 1.19 and accuracy of 0.64\n",
      "Epoch 1, Overall loss = 1.61 and accuracy of 0.413\n"
     ]
    },
    {
     "data": {
      "text/plain": [
       "(1.6077325231591049, 0.4129795918367347)"
      ]
     },
     "execution_count": 9,
     "metadata": {},
     "output_type": "execute_result"
    }
   ],
   "source": [
    "sess = tf.Session()\n",
    "\n",
    "sess.run(tf.global_variables_initializer())\n",
    "print('Training')\n",
    "run_model(sess,y_out,mean_loss,X_train,y_train,1,64,100,train_step)"
   ]
  },
  {
   "cell_type": "markdown",
   "metadata": {
    "colab_type": "text",
    "id": "OHs-7U0ImhM1"
   },
   "source": [
    "### Check the accuracy of the model.\n",
    "\n",
    "Let's see the train and test code in action -- feel free to use these methods when evaluating the models you develop below. You should see a loss of 1.3 to 2.0 with an accuracy of 0.45 to 0.55."
   ]
  },
  {
   "cell_type": "code",
   "execution_count": 10,
   "metadata": {
    "colab": {},
    "colab_type": "code",
    "id": "_4WgSmIfmhM2"
   },
   "outputs": [
    {
     "name": "stdout",
     "output_type": "stream",
     "text": [
      "Validation\n",
      "Epoch 1, Overall loss = 1.36 and accuracy of 0.519\n"
     ]
    },
    {
     "data": {
      "text/plain": [
       "(1.3644982748031615, 0.519)"
      ]
     },
     "execution_count": 10,
     "metadata": {},
     "output_type": "execute_result"
    }
   ],
   "source": [
    "print('Validation')\n",
    "run_model(sess,y_out,mean_loss,X_val,y_val,1,64)"
   ]
  },
  {
   "cell_type": "markdown",
   "metadata": {
    "colab_type": "text",
    "id": "ZW1ZtcmfmhM8"
   },
   "source": [
    "## Train a _great_ model on CIFAR-10!\n",
    "\n",
    "Now it's your job to experiment with architectures, hyperparameters, loss functions, and optimizers to train a model that achieves ** >= 70% accuracy on the validation set** of CIFAR-10. You can use the `run_model` function from above."
   ]
  },
  {
   "cell_type": "markdown",
   "metadata": {
    "colab_type": "text",
    "id": "CafduE-5mhM8"
   },
   "source": [
    "### Things you should try:\n",
    "- **Filter size**: Above we used 7x7; this makes pretty pictures but smaller filters may be more efficient\n",
    "- **Number of filters**: Above we used 32 filters. Do more or fewer do better?\n",
    "- **Pooling vs Strided Convolution**: Do you use max pooling or just stride convolutions?\n",
    "- **Batch normalization**: Try adding spatial batch normalization after convolution layers and vanilla batch normalization after affine layers. Do your networks train faster?\n",
    "- **Network architecture**: The network above has two layers of trainable parameters. Can you do better with a deep network? Good architectures to try include:\n",
    "    - [conv-relu-pool]xN -> [affine]xM -> [softmax or SVM]\n",
    "    - [conv-relu-conv-relu-pool]xN -> [affine]xM -> [softmax or SVM]\n",
    "    - [batchnorm-relu-conv]xN -> [affine]xM -> [softmax or SVM]\n",
    "- **Use TensorFlow Scope**: Use TensorFlow scope and/or [tf.layers](https://www.tensorflow.org/api_docs/python/tf/layers) to make it easier to write deeper networks. See [this tutorial](https://www.tensorflow.org/tutorials/layers) for how to use `tf.layers`. \n",
    "- **Use Learning Rate Decay**: [As the notes point out](http://cs231n.github.io/neural-networks-3/#anneal), decaying the learning rate might help the model converge. Feel free to decay every epoch, when loss doesn't change over an entire epoch, or any other heuristic you find appropriate. See the [Tensorflow documentation](https://www.tensorflow.org/versions/master/api_guides/python/train#Decaying_the_learning_rate) for learning rate decay.\n",
    "- **Global Average Pooling**: Instead of flattening and then having multiple affine layers, perform convolutions until your image gets small (7x7 or so) and then perform an average pooling operation to get to a 1x1 image picture (1, 1 , Filter#), which is then reshaped into a (Filter#) vector. This is used in [Google's Inception Network](https://arxiv.org/abs/1512.00567) (See Table 1 for their architecture).\n",
    "- **Regularization**: Add l2 weight regularization, or perhaps use [Dropout as in the TensorFlow MNIST tutorial](https://www.tensorflow.org/get_started/mnist/pros)\n",
    "\n",
    "### Tips for training\n",
    "For each network architecture that you try, you should tune the learning rate and regularization strength. When doing this there are a couple important things to keep in mind:\n",
    "\n",
    "- If the parameters are working well, you should see improvement within a few hundred iterations\n",
    "- Remember the coarse-to-fine approach for hyperparameter tuning: start by testing a large range of hyperparameters for just a few training iterations to find the combinations of parameters that are working at all.\n",
    "- Once you have found some sets of parameters that seem to work, search more finely around these parameters. You may need to train for more epochs.\n",
    "- You should use the validation set for hyperparameter search, and we'll save the test set for evaluating your architecture on the best parameters as selected by the validation set.\n",
    "\n",
    "### Going above and beyond\n",
    "If you are feeling adventurous there are many other features you can implement to try and improve your performance. You are **not required** to implement any of these; however they would be good things to try for extra credit.\n",
    "\n",
    "- Alternative update steps: For the assignment we implemented SGD+momentum, RMSprop, and Adam; you could try alternatives like AdaGrad or AdaDelta.\n",
    "- Alternative activation functions such as leaky ReLU, parametric ReLU, ELU, or MaxOut.\n",
    "- Model ensembles\n",
    "- Data augmentation\n",
    "- New Architectures\n",
    "  - [ResNets](https://arxiv.org/abs/1512.03385) where the input from the previous layer is added to the output.\n",
    "  - [DenseNets](https://arxiv.org/abs/1608.06993) where inputs into previous layers are concatenated together.\n",
    "  - [This blog has an in-depth overview](https://chatbotslife.com/resnets-highwaynets-and-densenets-oh-my-9bb15918ee32)\n",
    "\n",
    "If you do decide to implement something extra, clearly describe it in the \"Extra Credit Description\" cell below.\n",
    "\n",
    "### What we expect\n",
    "At the very least, you should be able to train a ConvNet that gets at **>= 70% accuracy on the validation set**. This is just a lower bound - if you are careful it should be possible to get accuracies much higher than that! Extra credit points will be awarded for particularly high-scoring models or unique approaches.\n",
    "\n",
    "You should use the space below to experiment and train your network. The final cell in this notebook should contain the training and validation set accuracies for your final trained network.\n",
    "\n",
    "Have fun and happy training!"
   ]
  },
  {
   "cell_type": "code",
   "execution_count": 0,
   "metadata": {
    "colab": {},
    "colab_type": "code",
    "id": "B4Dv-EHuIROy"
   },
   "outputs": [],
   "source": [
    "def run_my_model(session, predict, loss_val, Xd, yd,\n",
    "              epochs=1, batch_size=64, print_every=100,\n",
    "              training=None, plot_losses=False):\n",
    "    # have tensorflow compute accuracy\n",
    "    correct_prediction = tf.equal(tf.argmax(predict,1), y)\n",
    "    accuracy = tf.reduce_mean(tf.cast(correct_prediction, tf.float32))\n",
    "    \n",
    "    # shuffle indicies\n",
    "    train_indicies = np.arange(Xd.shape[0])\n",
    "    np.random.shuffle(train_indicies)\n",
    "\n",
    "    training_now = training is not None\n",
    "    \n",
    "    # setting up variables we want to compute (and optimizing)\n",
    "    # if we have a training function, add that to things we compute\n",
    "    variables = [mean_loss,correct_prediction,accuracy]\n",
    "    if training_now:\n",
    "        variables[-1] = training\n",
    "    \n",
    "    # counter \n",
    "    iter_cnt = 0\n",
    "    losses = []\n",
    "    accuracies = []\n",
    "    for e in range(epochs):\n",
    "        # keep track of losses and accuracy\n",
    "        correct = 0\n",
    "        m_loss = []\n",
    "        # make sure we iterate over the dataset once\n",
    "        for i in range(int(math.ceil(Xd.shape[0]/batch_size))):\n",
    "            # generate indicies for the batch\n",
    "            start_idx = (i*batch_size)%Xd.shape[0]\n",
    "            idx = train_indicies[start_idx:start_idx+batch_size]\n",
    "            \n",
    "            # create a feed dictionary for this batch\n",
    "            feed_dict = {X: Xd[idx,:],\n",
    "                         y: yd[idx],\n",
    "                         is_training: training_now }\n",
    "            # get batch size\n",
    "            actual_batch_size = yd[idx].shape[0]\n",
    "            \n",
    "            # have tensorflow compute loss and correct predictions\n",
    "            # and (if given) perform a training step\n",
    "            loss, corr, _ = session.run(variables,feed_dict=feed_dict)\n",
    "            \n",
    "            # aggregate performance stats\n",
    "            m_loss.append(loss*actual_batch_size)\n",
    "            correct += np.sum(corr)\n",
    "            \n",
    "            # print every now and then\n",
    "            if training_now and (iter_cnt % print_every) == 0:\n",
    "                print(\"Iteration {0}: with minibatch training loss = {1:.3g} and accuracy of {2:.2g}\"\\\n",
    "                      .format(iter_cnt,loss,np.sum(corr)/actual_batch_size))\n",
    "            iter_cnt += 1\n",
    "        total_correct = correct/Xd.shape[0]\n",
    "        total_loss = np.sum(m_loss)/Xd.shape[0]\n",
    "        losses.append(total_loss)\n",
    "        accuracies.append(total_correct)\n",
    "        print(\"Epoch {2}, Overall loss = {0:.3g} and accuracy of {1:.3g}\"\\\n",
    "              .format(total_loss,total_correct,e+1))\n",
    "        print(\"\")\n",
    "    if plot_losses:\n",
    "      plt.subplot(2, 1, 1)\n",
    "      plt.title('Cross Entropy Loss')\n",
    "      plt.xlabel('Epochs')\n",
    "      plt.ylabel('Loss')\n",
    "      plt.plot(losses, '-o', label='baseline')\n",
    "  \n",
    "      plt.subplot(2, 1, 2)\n",
    "      plt.title('Accuracy')\n",
    "      plt.xlabel('Epochs')\n",
    "      plt.ylabel('Accuracy')\n",
    "      plt.plot(accuracies, '-o', label='baseline')\n",
    "      plt.tight_layout()\n",
    "      plt.show()\n",
    "    \n",
    "    return total_loss,total_correct"
   ]
  },
  {
   "cell_type": "code",
   "execution_count": 0,
   "metadata": {
    "colab": {},
    "colab_type": "code",
    "id": "_azlR5egmhM9"
   },
   "outputs": [],
   "source": [
    "# Feel free to play with this cell\n",
    "\n",
    "\n",
    "\n",
    "def my_model(X,y,is_training):\n",
    "    \n",
    "    # Convolution variables\n",
    "    Wconv1 = tf.get_variable(\"Wconv1\", shape=[3, 3, 3, 32])\n",
    "    bconv1 = tf.get_variable(\"bconv1\", shape=[32])\n",
    "    Wconv2 = tf.get_variable(\"Wconv2\", shape=[3, 3, Wconv1.shape[3], 32])\n",
    "    bconv2 = tf.get_variable(\"bconv2\", shape=[32])\n",
    "    Wconv3 = tf.get_variable(\"Wconv3\", shape=[3, 3, Wconv2.shape[3], 64])\n",
    "    bconv3 = tf.get_variable(\"bconv3\", shape=[64])\n",
    "    Wconv4 = tf.get_variable(\"Wconv4\", shape=[3, 3, Wconv3.shape[3], 64])\n",
    "    bconv4 = tf.get_variable(\"bconv4\", shape=[64])\n",
    "    Wconv5 = tf.get_variable(\"Wconv5\", shape=[3, 3, Wconv4.shape[3], 128])\n",
    "    bconv5 = tf.get_variable(\"bconv5\", shape=[128])\n",
    "    Wconv6 = tf.get_variable(\"Wconv6\", shape=[3, 3, Wconv5.shape[3], 128])\n",
    "    bconv6 = tf.get_variable(\"bconv6\", shape=[128])\n",
    "    \n",
    "    # Batch norm variables\n",
    "    Gammaconv1 = tf.get_variable(\"Gammaconv1\", shape=[1,1,32])\n",
    "    Betaconv1 = tf.get_variable(\"Betaconv1\", shape=[1,1,32])\n",
    "    Gammaconv2 = tf.get_variable(\"Gammaconv2\", shape=[1,1,32])\n",
    "    Betaconv2 = tf.get_variable(\"Betaconv2\", shape=[1,1,32])\n",
    "    Gammaconv3 = tf.get_variable(\"Gammaconv3\", shape=[1,1,64])\n",
    "    Betaconv3 = tf.get_variable(\"Betaconv3\", shape=[1,1,64])\n",
    "    Gammaconv4 = tf.get_variable(\"Gammaconv4\", shape=[1,1,64])\n",
    "    Betaconv4 = tf.get_variable(\"Betaconv4\", shape=[1,1,64])\n",
    "    Gammaconv5 = tf.get_variable(\"Gammaconv5\", shape=[1,1,128])\n",
    "    Betaconv5 = tf.get_variable(\"Betaconv5\", shape=[1,1,128])\n",
    "    Gammaconv6 = tf.get_variable(\"Gammaconv6\", shape=[1,1,128])\n",
    "    Betaconv6 = tf.get_variable(\"Betaconv6\", shape=[1,1,128])\n",
    "\n",
    "    eps = 1e-5\n",
    "\n",
    "    ## Network Structure\n",
    "    print(\"Network output shape: \")\n",
    "    # Convolutional Layer\n",
    "    a1 = tf.nn.conv2d(X, Wconv1, strides=[1,1,1,1], padding='SAME') + bconv1\n",
    "    print(\"a1: \", a1.shape)\n",
    "    # Relu\n",
    "    a2 = tf.nn.relu(a1)\n",
    "    print(\"a2: \", a2.shape)\n",
    "    # Batch normalization\n",
    "    running_mean, running_var = tf.nn.moments(a2, axes=[0], keep_dims=False)\n",
    "    a3 = tf.nn.batch_normalization(a2, running_mean, running_var, Betaconv1, Gammaconv1, eps)\n",
    "    print(\"a3: \", a3.shape)\n",
    "    # Convolutional Layer\n",
    "    a4 = tf.nn.conv2d(a3, Wconv2, strides=[1,1,1,1], padding='SAME') + bconv2\n",
    "    print(\"a4: \", a4.shape)\n",
    "    # Relu\n",
    "    a5 = tf.nn.relu(a4)\n",
    "    print(\"a5: \", a5.shape)\n",
    "    # Batch normalization\n",
    "    running_mean, running_var = tf.nn.moments(a5, axes=[0], keep_dims=False)\n",
    "    a6 = tf.nn.batch_normalization(a5, running_mean, running_var, Betaconv2, Gammaconv2, eps)\n",
    "    print(\"a6: \", a6.shape)\n",
    "    # 2x2 Max pooling\n",
    "    a7 = tf.nn.max_pool(a6, ksize=[1,2,2,1], strides=[1,2,2,1], padding='SAME')\n",
    "    print(\"a7: \", a7.shape)\n",
    "    # Drop out\n",
    "    a8 = tf.nn.dropout(a7, 0.8)\n",
    "    print(\"a8: \", a8.shape)\n",
    "    \n",
    "    # Convolutional Layer\n",
    "    a9 = tf.nn.conv2d(a8, Wconv3, strides=[1,1,1,1], padding='SAME') + bconv3\n",
    "    print(\"a9: \", a9.shape)\n",
    "    # Relu\n",
    "    a10 = tf.nn.relu(a9)\n",
    "    print(\"a10: \", a10.shape)\n",
    "    # Batch normalization\n",
    "    running_mean, running_var = tf.nn.moments(a10, axes=[0], keep_dims=False)\n",
    "    a11 = tf.nn.batch_normalization(a10, running_mean, running_var, Betaconv3, Gammaconv3, eps)\n",
    "    print(\"a11: \", a11.shape)\n",
    "    # Convolutional Layer\n",
    "    a12 = tf.nn.conv2d(a11, Wconv4, strides=[1,1,1,1], padding='SAME') + bconv4\n",
    "    print(\"a12: \", a12.shape)\n",
    "    # Relu\n",
    "    a13 = tf.nn.relu(a12)\n",
    "    print(\"a13: \", a13.shape)\n",
    "    # Batch normalization\n",
    "    running_mean, running_var = tf.nn.moments(a13, axes=[0], keep_dims=False)\n",
    "    a14 = tf.nn.batch_normalization(a13, running_mean, running_var, Betaconv4, Gammaconv4, eps)\n",
    "    print(\"a14: \", a14.shape)\n",
    "    # 2x2 Max pooling\n",
    "    a15 = tf.nn.max_pool(a14, ksize=[1,2,2,1], strides=[1,2,2,1], padding='SAME')\n",
    "    print(\"a15: \", a15.shape)\n",
    "    # Drop out\n",
    "    a16 = tf.nn.dropout(a15, 0.7)\n",
    "    print(\"a16: \", a16.shape)\n",
    "\n",
    "    # Convolutional Layer\n",
    "    a17 = tf.nn.conv2d(a16, Wconv5, strides=[1,1,1,1], padding='SAME') + bconv5\n",
    "    print(\"a17: \", a17.shape)\n",
    "    # Relu\n",
    "    a18 = tf.nn.relu(a17)\n",
    "    print(\"a18: \", a18.shape)\n",
    "    # Batch normalization\n",
    "    running_mean, running_var = tf.nn.moments(a18, axes=[0], keep_dims=False)\n",
    "    a19 = tf.nn.batch_normalization(a18, running_mean, running_var, Betaconv5, Gammaconv5, eps)\n",
    "    print(\"a19: \", a19.shape)\n",
    "    # Convolutional Layer\n",
    "    a20 = tf.nn.conv2d(a19, Wconv6, strides=[1,1,1,1], padding='SAME') + bconv6\n",
    "    print(\"a20: \", a20.shape)\n",
    "    # Relu\n",
    "    a21 = tf.nn.relu(a20)\n",
    "    print(\"a21: \", a21.shape)\n",
    "    # Batch normalization\n",
    "    running_mean, running_var = tf.nn.moments(a21, axes=[0], keep_dims=False)\n",
    "    a22 = tf.nn.batch_normalization(a21, running_mean, running_var, Betaconv6, Gammaconv6, eps)   \n",
    "    print(\"a22: \", a22.shape)\n",
    "    # Max pool \n",
    "    a23 = tf.nn.max_pool(a22, ksize=[1,2,2,1], strides=[1,2,2,1], padding='SAME')\n",
    "    print(\"a23: \", a23.shape)\n",
    "    # Drop out\n",
    "    a24 = tf.nn.dropout(a23, 0.6)\n",
    "    print(\"a24: \", a24.shape)\n",
    "\n",
    "    # Variables for fully connected layer\n",
    "    input_shape = a24.shape[1]*a24.shape[2]*a24.shape[3]\n",
    "    W1 = tf.get_variable(\"W1\", shape=[input_shape, 10])\n",
    "    b1 = tf.get_variable(\"b1\", shape=[10])\n",
    "\n",
    "    # Flatten \n",
    "    h1_flat = tf.reshape(a24,[-1,input_shape])  \n",
    "    print(\"h_flat: \", h1_flat) \n",
    "    # Affine layer\n",
    "    h2 = tf.matmul(h1_flat,W1) + b1\n",
    "    print(\"out: \", h2.shape)\n",
    "\n",
    "    y_out = h2\n",
    "    \n",
    "    return y_out\n",
    "\n",
    "    ''' two convolution layers\n",
    "    # Convolution - Relu\n",
    "    a1 = tf.layers.conv2d(inputs=X, filters=32, padding='same', kernel_size=5, strides=1, activation=tf.nn.relu)\n",
    "    print(\"a1: \", a1.shape)\n",
    "    # Batch Normalization\n",
    "    a2 = tf.layers.batch_normalization(inputs=a1, training=is_training)\n",
    "    print(\"a2: \", a2.shape)\n",
    "    # Dropout\n",
    "    a3 = tf.layers.dropout(a2)\n",
    "    print(\"a3: \", a3.shape)\n",
    "    # Covolution - Relu\n",
    "    a4 = tf.layers.conv2d(inputs=a3, filters=64, padding='same', kernel_size=5, strides=1, activation=tf.nn.relu)\n",
    "    print(\"a4: \", a4.shape)\n",
    "    # Batch Normalization\n",
    "    a5 = tf.layers.batch_normalization(inputs=a4, training=is_training)\n",
    "    print(\"a5: \", a5.shape)\n",
    "    # Dropout\n",
    "    a6 = tf.layers.dropout(a5)\n",
    "    print(\"a6: \", a6.shape)\n",
    "    # Maxpool\n",
    "    a7 = tf.layers.max_pooling2d(inputs=a6, pool_size=2, strides=2)\n",
    "    print(\"a7: \", a7.shape)\n",
    "\n",
    "    # Flatten\n",
    "    x_flat = tf.reshape(a7,[-1,a7.shape[1]*a7.shape[2]*a7.shape[3]])\n",
    "    print(\"x_flat: \", x_flat.shape)\n",
    "    # Affine - Relu\n",
    "    x1 = tf.layers.dense(inputs=x_flat, units=1024 , activation=tf.nn.relu)\n",
    "    print(\"x1: \", x1.shape)\n",
    "    # Batch Normalization\n",
    "    x2 = tf.layers.batch_normalization(inputs=x1, training=is_training)\n",
    "    print(\"x2: \", x2.shape)\n",
    "    # Dropout\n",
    "    x3 = tf.layers.dropout(x2)\n",
    "    print(\"x3: \", x3.shape)\n",
    "    # Affine \n",
    "    y_out = tf.layers.dense(inputs=x3, units=10, activation=None)\n",
    "    print(\"y_out: \", y_out.shape)\n",
    "    \n",
    "    return y_out\n",
    "    '''\n",
    "\n",
    "tf.reset_default_graph()\n",
    "\n",
    "X = tf.placeholder(tf.float32, [None, 32, 32, 3])\n",
    "y = tf.placeholder(tf.int64, [None])\n",
    "is_training = tf.placeholder(tf.bool)\n",
    "\n",
    "y_out = my_model(X,y,is_training)\n",
    "\n",
    "\n",
    "loss = tf.nn.softmax_cross_entropy_with_logits(labels=tf.one_hot(y,10), logits=y_out)\n",
    "mean_loss = tf.math.reduce_mean(loss) # scaler\n",
    "# optimizer = tf.compat.v1.train.RMSPropOptimizer(\n",
    "#     learning_rate=1e-3, decay=1e-6, momentum=0.9, epsilon=1e-10, use_locking=False,\n",
    "#     centered=False, name='RMSProp'\n",
    "# )\n",
    "optimizer = tf.train.AdamOptimizer(learning_rate=0.001)\n",
    "\n",
    "\n",
    "# batch normalization in tensorflow requires this extra dependency\n",
    "extra_update_ops = tf.get_collection(tf.GraphKeys.UPDATE_OPS)\n",
    "with tf.control_dependencies(extra_update_ops):\n",
    "    train_step = optimizer.minimize(mean_loss)"
   ]
  },
  {
   "cell_type": "code",
   "execution_count": 0,
   "metadata": {
    "colab": {},
    "colab_type": "code",
    "id": "IWVrTjZQmhND"
   },
   "outputs": [],
   "source": [
    "# Feel free to play with this cell\n",
    "# This default code creates a session\n",
    "# and trains your model for 10 epochs\n",
    "# then prints the validation set accuracy\n",
    "\n",
    "sess = tf.Session()\n",
    "tf.device(\"/gpu:0\")\n",
    "\n",
    "sess.run(tf.global_variables_initializer())\n",
    "print('Training')\n",
    "run_my_model(sess,y_out,mean_loss,X_train,y_train,10,64,100,train_step,True)\n",
    "print('Validation')\n",
    "run_my_model(sess,y_out,mean_loss,X_val,y_val,1,64)"
   ]
  },
  {
   "cell_type": "code",
   "execution_count": 0,
   "metadata": {
    "colab": {},
    "colab_type": "code",
    "id": "_TbF_tTYmhNF"
   },
   "outputs": [],
   "source": [
    "# Test your model here, and make sure \n",
    "# the output of this cell is the accuracy\n",
    "# of your best model on the training and val sets\n",
    "# We're looking for >= 70% accuracy on Validation\n",
    "print('Training')\n",
    "run_model(sess,y_out,mean_loss,X_train,y_train,1,64)\n",
    "print('Validation')\n",
    "run_model(sess,y_out,mean_loss,X_val,y_val,1,64)"
   ]
  },
  {
   "cell_type": "markdown",
   "metadata": {
    "colab_type": "text",
    "id": "_mnIrnDGmhNI"
   },
   "source": [
    "### Describe what you did here\n",
    "In this cell you should also write an explanation of what you did, any additional features that you implemented, and any visualizations or graphs that you make in the process of training and evaluating your network"
   ]
  },
  {
   "cell_type": "markdown",
   "metadata": {
    "colab_type": "text",
    "id": "wdkikrOlmhNJ"
   },
   "source": [
    "Here is the structure of my network:\n",
    "\n",
    "    Layers:            Output Shape:                     Param:\n",
    "    Conv2d             (N,32,32,32)              (3x3x3x32+32 = 2432)\n",
    "    Relu               (N,32,32,32)         \n",
    "    BatchNorm          (N,32,32,32)              (4x32 = 128)\n",
    "    Dropout            (N,32,32,32)\n",
    "    Conv2d             (N,32,32,32)              (3x3x32x32+32 = 9248)\n",
    "    Relu               (N,32,32,32)\n",
    "    BatchNorm          (N,32,32,32)              (4x32 = 128)\n",
    "    MaxPool            (N,16,16,32)\n",
    "    Dropout            (N,16,16,32)\n",
    "\n",
    "    Conv2d             (N,16,16,64)              (3x3x32x64+64 = 18496)\n",
    "    Relu               (N,16,16,64)         \n",
    "    BatchNorm          (N,16,16,64)              (4x64 = 256)\n",
    "    Dropout            (N,16,16,64)\n",
    "    Conv2d             (N,16,16,64)              (3x3x64x64+64 = 36928)\n",
    "    Relu               (N,16,16,64)\n",
    "    BatchNorm          (N,16,16,64)              (4x64 = 256)\n",
    "    MaxPool            (N,8,8,64)\n",
    "    Dropout            (N,8,8,64)\n",
    "\n",
    "    Conv2d             (N,8,8,128)               (3x3x64x128+128 = 73856)\n",
    "    Relu               (N,8,8,128)         \n",
    "    BatchNorm          (N,8,8,128)               (4x128 = 512)\n",
    "    Dropout            (N,8,8,128)\n",
    "    Conv2d             (N,8,8,128)               (3x3x128x128+128 = 147584)\n",
    "    Relu               (N,8,8,128)\n",
    "    BatchNorm          (N,8,8,128)               (4x128 = 512)\n",
    "    MaxPool            (N,4,4,128)\n",
    "    Dropout            (N,4,4,128)\n",
    "\n",
    "    Flatten            (N,4x4x128)               \n",
    "    Affine             (N,10)                    (2048X10 = 20480)\n",
    "\n",
    "Hyper parameters:\n",
    "\n",
    "* learning rate = 0.001\n",
    "\n",
    "* Epoch = 10\n",
    "\n",
    "In my implementation, I increase the number of convolution layers. I apply 6 convolution layers to better extract feature details. My network can be describe as four parts. The first three parts are the convolution layers where each part having the structure of (conv - relu - batchnorm - dropout - conv - relu - batchnorm - maxpool - dropout). I use a 3x3 kernel for my convolution with stride 1, and also zero padding to maintain the shape. The last part is just the fully connected layers to the number of classes. \n",
    "\n",
    "Since my network is quite large and has a lot of parameters, I added some dropout layers to prevent the model from overfitting. I also normalize my activations to have the same scale in order to balance the gradient and also increase the training speed. \n",
    "\n",
    "The graph above shows the loss and accuracy change through out the epochs."
   ]
  },
  {
   "cell_type": "markdown",
   "metadata": {
    "colab_type": "text",
    "id": "tWMT4OWAmhNK"
   },
   "source": [
    "### Test Set - Do this only once\n",
    "Now that we've gotten a result that we're happy with, we test our final model on the test set. This would be the score we would achieve on a competition. Think about how this compares to your validation set accuracy."
   ]
  },
  {
   "cell_type": "code",
   "execution_count": 0,
   "metadata": {
    "colab": {},
    "colab_type": "code",
    "id": "UN-4onaumhNL"
   },
   "outputs": [],
   "source": [
    "print('Test')\n",
    "run_model(sess,y_out,mean_loss,X_test,y_test,1,64)"
   ]
  },
  {
   "cell_type": "markdown",
   "metadata": {
    "colab_type": "text",
    "id": "IlCIkXdumhNP"
   },
   "source": [
    "## Going further with TensorFlow\n",
    "\n",
    "The next assignment will make heavy use of TensorFlow. You might also find it useful for your projects. \n"
   ]
  },
  {
   "cell_type": "markdown",
   "metadata": {
    "colab_type": "text",
    "id": "B6yrVZ2dmhNP"
   },
   "source": [
    "# Extra Credit Description\n",
    "If you implement any additional features for extra credit, clearly describe them here with pointers to any code in this or other files if applicable."
   ]
  }
 ],
 "metadata": {
  "accelerator": "GPU",
  "colab": {
   "collapsed_sections": [],
   "name": "TensorFlow.ipynb",
   "provenance": [],
   "toc_visible": true
  },
  "kernelspec": {
   "display_name": "Python 3",
   "language": "python",
   "name": "python3"
  },
  "language_info": {
   "codemirror_mode": {
    "name": "ipython",
    "version": 3
   },
   "file_extension": ".py",
   "mimetype": "text/x-python",
   "name": "python",
   "nbconvert_exporter": "python",
   "pygments_lexer": "ipython3",
   "version": "3.7.6"
  }
 },
 "nbformat": 4,
 "nbformat_minor": 1
}
